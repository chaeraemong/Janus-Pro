{
 "cells": [
  {
   "cell_type": "code",
   "execution_count": null,
   "id": "24a0a169-4637-4348-a86c-9d287557911d",
   "metadata": {
    "scrolled": true
   },
   "outputs": [
    {
     "name": "stdout",
     "output_type": "stream",
     "text": [
      "Python version is above 3.10, patching the collections module.\n"
     ]
    },
    {
     "name": "stderr",
     "output_type": "stream",
     "text": [
      "/root/miniconda3/lib/python3.10/site-packages/transformers/models/auto/image_processing_auto.py:590: FutureWarning: The image_processor_class argument is deprecated and will be removed in v4.42. Please use `slow_image_processor_class`, or `fast_image_processor_class` instead\n",
      "  warnings.warn(\n",
      "Using a slow image processor as `use_fast` is unset and a slow processor was saved with this model. `use_fast=True` will be the default behavior in v4.48, even if the model was saved with a slow processor. This will result in minor differences in outputs. You'll still be able to use a slow processor with `use_fast=False`.\n",
      "You are using the default legacy behaviour of the <class 'transformers.models.llama.tokenization_llama_fast.LlamaTokenizerFast'>. This is expected, and simply means that the `legacy` (previous) behavior will be used so nothing changes for you. If you want to use the new behaviour, set `legacy=False`. This should only be set if you understand what it means, and thoroughly read the reason why this was added as explained in https://github.com/huggingface/transformers/pull/24565 - if you loaded a llama tokenizer from a GGUF file you can ignore this message.\n"
     ]
    },
    {
     "name": "stdout",
     "output_type": "stream",
     "text": [
      "Loaded 45 image-text pairs from /root/autodl-tmp/Janus-1/trump\n",
      "Loading pretrained model from /root/autodl-tmp/Janus-1/models/Janus-Pro-7B\n"
     ]
    },
    {
     "name": "stderr",
     "output_type": "stream",
     "text": [
      "Some kwargs in processor config are unused and will not have any effect: mask_prompt, num_image_tokens, add_special_token, sft_format, ignore_id, image_tag. \n"
     ]
    },
    {
     "data": {
      "application/vnd.jupyter.widget-view+json": {
       "model_id": "51fce6517e8745fdaeaeb94954eca7c9",
       "version_major": 2,
       "version_minor": 0
      },
      "text/plain": [
       "Loading checkpoint shards:   0%|          | 0/2 [00:00<?, ?it/s]"
      ]
     },
     "metadata": {},
     "output_type": "display_data"
    },
    {
     "name": "stderr",
     "output_type": "stream",
     "text": [
      "/root/miniconda3/lib/python3.10/site-packages/transformers/training_args.py:1575: FutureWarning: `evaluation_strategy` is deprecated and will be removed in version 4.46 of 🤗 Transformers. Use `eval_strategy` instead\n",
      "  warnings.warn(\n",
      "Detected kernel version 5.4.0, which is below the recommended minimum of 5.5.0; this can cause the process to hang. It is recommended to upgrade the kernel to the minimum version or higher.\n"
     ]
    },
    {
     "name": "stdout",
     "output_type": "stream",
     "text": [
      "Trainable params: 29614080 / 7449982603\n",
      "[Start!] Start training!!!!!---------->>>>>>>\n"
     ]
    },
    {
     "data": {
      "text/html": [
       "\n",
       "    <div>\n",
       "      \n",
       "      <progress value='8' max='230' style='width:300px; height:20px; vertical-align: middle;'></progress>\n",
       "      [  8/230 00:06 < 03:45, 0.98 it/s, Epoch 0.30/10]\n",
       "    </div>\n",
       "    <table border=\"1\" class=\"dataframe\">\n",
       "  <thead>\n",
       " <tr style=\"text-align: left;\">\n",
       "      <th>Step</th>\n",
       "      <th>Training Loss</th>\n",
       "    </tr>\n",
       "  </thead>\n",
       "  <tbody>\n",
       "  </tbody>\n",
       "</table><p>"
      ],
      "text/plain": [
       "<IPython.core.display.HTML object>"
      ]
     },
     "metadata": {},
     "output_type": "display_data"
    }
   ],
   "source": [
    "# 导入必要的库\n",
    "import os\n",
    "import random\n",
    "from typing import List, Tuple, Dict, Any\n",
    "import numpy as np\n",
    "import torch\n",
    "from peft import LoraConfig, get_peft_model\n",
    "from torch.optim import AdamW\n",
    "from transformers import Trainer, TrainingArguments, get_scheduler\n",
    "from multimodal_trainer import EnhancedMultiModalTrainer\n",
    "\n",
    "####开始训练\n",
    "trainer = EnhancedMultiModalTrainer(\n",
    "    data_dir=\"/root/autodl-tmp/Janus-1/trump\",\n",
    "    pretrained_model_path=\"/root/autodl-tmp/Janus-1/models/Janus-Pro-7B\",\n",
    "    output_dir=\"./20250127\",\n",
    "    batch_size=2,\n",
    "    max_epochs=10,\n",
    "    lr=3e-4,\n",
    "    user_question=\"请描述一下这张图片的内容。\",\n",
    "    optimizer_name=\"AdamW\",\n",
    "    lora_config={\n",
    "        \"r\": 16,\n",
    "        \"lora_alpha\": 32,\n",
    "        \"target_modules\": [\"q_proj\", \"v_proj\", \"gate_proj\", \"up_proj\", \"down_proj\"],\n",
    "        \"lora_dropout\": 0.1,\n",
    "        \"bias\": \"none\",\n",
    "        \"task_type\": \"CAUSAL_LM\",\n",
    "    },\n",
    "    training_args={\n",
    "        \"fp16\": True,\n",
    "        \"max_grad_norm\": 1.0,\n",
    "        \"save_strategy\": \"epoch\",\n",
    "        \"evaluation_strategy\": \"no\",\n",
    "        \"logging_steps\": 50,\n",
    "        \"save_total_limit\": 2,\n",
    "        \"remove_unused_columns\": False,\n",
    "    }\n",
    ")\n",
    "trainer.train()"
   ]
  },
  {
   "cell_type": "code",
   "execution_count": null,
   "id": "efa27a11-438f-4d84-b78d-d856564dc130",
   "metadata": {},
   "outputs": [],
   "source": []
  }
 ],
 "metadata": {
  "kernelspec": {
   "display_name": "Python 3 (ipykernel)",
   "language": "python",
   "name": "python3"
  },
  "language_info": {
   "codemirror_mode": {
    "name": "ipython",
    "version": 3
   },
   "file_extension": ".py",
   "mimetype": "text/x-python",
   "name": "python",
   "nbconvert_exporter": "python",
   "pygments_lexer": "ipython3",
   "version": "3.10.8"
  }
 },
 "nbformat": 4,
 "nbformat_minor": 5
}
